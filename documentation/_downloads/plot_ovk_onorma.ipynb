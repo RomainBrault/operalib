{
  "nbformat_minor": 0, 
  "nbformat": 4, 
  "cells": [
    {
      "execution_count": null, 
      "cell_type": "code", 
      "source": [
        "%matplotlib inline"
      ], 
      "outputs": [], 
      "metadata": {
        "collapsed": false
      }
    }, 
    {
      "source": [
        "\n# Online Learning with Operator-Valued kernels\n\n\nAn example to illustrate online learning with operator-valued\nkernels.\n\n"
      ], 
      "cell_type": "markdown", 
      "metadata": {}
    }, 
    {
      "execution_count": null, 
      "cell_type": "code", 
      "source": [
        "import operalib as ovk\nimport numpy as np\nimport matplotlib.pyplot as plt\n\nimport time\n\nfrom sklearn.preprocessing import StandardScaler\n\nn = 5000\nd = 20\np = 10\n\nX, y = ovk.datasets.toy_data_multitask(n, d, p, random_state=0)\n\nest = ovk.ONORMA('DGauss', A=np.eye(p), gamma=.25,\n                 learning_rate=ovk.InvScaling(2.), lbda=0.01)\nprint('Fitting Independent Gaussian.')\nstart = time.time()\nerr_i = np.empty(n)\nerr_i[0] = np.linalg.norm(y[0, :]) ** 2\nest.partial_fit(X[0, :].reshape(1, -1), y[0, :])\nfor t in range(1, n):\n    err_i[t] = np.linalg.norm(est.predict(X[t, :].reshape(1, -1)) -\n                              y[t, :]) ** 2\n    est.partial_fit(X[t, :], y[t, :])\nerr_ci = np.cumsum(err_i) / (np.arange(n) + 1)\nprint('    training time: %.3f s' % (time.time() - start))\nprint('    MSE: %.3f' % err_ci[-1])\nplt.semilogy(np.linspace(0, 100, err_ci.size), err_ci,\n             label='Independent Decomposable Kernel')\n\nmu = 0\nest = ovk.ONORMA('DotProduct', mu=mu,\n                 learning_rate=ovk.InvScaling(.05), lbda=0.01)\nprint('Fitting Independent DotProduct, mu={}.'.format(mu))\nstart = time.time()\nerr_j = np.empty(n)\nerr_j[0] = np.linalg.norm(y[0, :]) ** 2\nest.partial_fit(X[0, :].reshape(1, -1), y[0, :])\nfor t in range(1, n):\n    err_j[t] = np.linalg.norm(est.predict(X[t, :].reshape(1, -1)) -\n                              y[t, :]) ** 2\n    est.partial_fit(X[t, :], y[t, :])\nerr_cj = np.cumsum(err_j) / (np.arange(n) + 1)\nprint('    training time: %.3f s' % (time.time() - start))\nprint('    MSE: %.3f' % err_cj[-1])\nplt.semilogy(np.linspace(0, 100, err_cj.size), err_cj,\n             label=r'Independent DotProduct Kernel: $\\mu$={}'.format(mu))\n\nmu=.2\nest = ovk.ONORMA('DotProduct', mu=mu,\n                 learning_rate=ovk.InvScaling(0.05), lbda=0.01)\nprint('Fitting Joint DotProductKernel, mu={}.'.format(mu))\nstart = time.time()\nerr_j = np.empty(n)\nerr_j[0] = np.linalg.norm(y[0, :]) ** 2\nest.partial_fit(X[0, :].reshape(1, -1), y[0, :])\nfor t in range(1, n):\n    err_j[t] = np.linalg.norm(est.predict(X[t, :].reshape(1, -1)) -\n                              y[t, :]) ** 2\n    est.partial_fit(X[t, :], y[t, :])\nerr_cj = np.cumsum(err_j) / (np.arange(n) + 1)\nprint('    training time: %.3f s' % (time.time() - start))\nprint('    MSE: %.3f' % err_cj[-1])\nplt.semilogy(np.linspace(0, 100, err_cj.size), err_cj,\n             label=r'Joint DotProduct Kernel: $\\mu$={}'.format(mu))\n\n#plt.ylim(4e-2, 1.2e-1)\nplt.title('Online learning with ONORMA')\nplt.xlabel('Size of the Training set (%)')\nplt.ylabel('MSE')\nplt.legend()\nplt.show()"
      ], 
      "outputs": [], 
      "metadata": {
        "collapsed": false
      }
    }
  ], 
  "metadata": {
    "kernelspec": {
      "display_name": "Python 2", 
      "name": "python2", 
      "language": "python"
    }, 
    "language_info": {
      "mimetype": "text/x-python", 
      "nbconvert_exporter": "python", 
      "name": "python", 
      "file_extension": ".py", 
      "version": "2.7.11", 
      "pygments_lexer": "ipython2", 
      "codemirror_mode": {
        "version": 2, 
        "name": "ipython"
      }
    }
  }
}