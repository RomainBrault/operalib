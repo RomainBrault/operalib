{
  "nbformat_minor": 0, 
  "nbformat": 4, 
  "cells": [
    {
      "execution_count": null, 
      "cell_type": "code", 
      "source": [
        "%matplotlib inline"
      ], 
      "outputs": [], 
      "metadata": {
        "collapsed": false
      }
    }, 
    {
      "source": [
        "\n# Joint quantile regression with operator-valued kernels\n\n\nAn example to illustrate joint quantile regression with operator-valued\nkernels.\n\nWe compare quantile regression estimation with and without non-crossing\nconstraints.\n\n"
      ], 
      "cell_type": "markdown", 
      "metadata": {}
    }, 
    {
      "execution_count": null, 
      "cell_type": "code", 
      "source": [
        "# Author: Maxime Sangnier <maxime.sangnier@gmail.com>\n# License: MIT\n\n# -*- coding: utf-8 -*-\nimport time\n\nimport numpy as np\nfrom numpy.random import seed\nimport matplotlib.pyplot as plt\n\nfrom operalib import Quantile, toy_data_quantile\n\n\ndef main():\n    \"\"\"example of multiple quantile regression.\"\"\"\n    seed(0)\n\n    print(\"Creating dataset...\")\n    probs = np.linspace(0.1, 0.9, 5)  # Quantile levels of interest\n    x_train, y_train, _ = toy_data_quantile(50)\n    x_test, y_test, z_test = toy_data_quantile(1000, probs=probs)\n\n    print(\"Fitting...\")\n    methods = {'Joint':\n               Quantile(probs=probs, kernel='DGauss', lbda=1e-2, gamma=8,\n                        gamma_quantile=1e-2),\n               'Independent': Quantile(probs=probs, kernel='DGauss', lbda=1e-2,\n                                       gamma=8, gamma_quantile=np.inf),\n               'Non-crossing': Quantile(probs=probs, kernel='DGauss',\n                                        lbda=1e-2, gamma=8,\n                                        gamma_quantile=np.inf, nc_const=True)}\n    # Fit on training data\n    for name, reg in methods.items():\n        start = time.time()\n        reg.fit(x_train, y_train)\n        print(name + ' leaning time: ', time.time() - start)\n        print(name + ' score ', reg.score(x_test, y_test))\n\n    # Plot the estimated conditional quantiles\n    plt.figure(figsize=(12, 7))\n    for i, method in enumerate(['Joint', 'Independent', 'Non-crossing']):\n        plt.subplot(1, 3, i + 1)\n        plt.plot(x_train, y_train, '.')\n        plt.gca().set_prop_cycle(None)\n        for quantile in methods[method].predict(x_test):\n            plt.plot(x_test, quantile, '-')\n        plt.gca().set_prop_cycle(None)\n        for quantile in z_test:\n            plt.plot(x_test, quantile, '--')\n        plt.title(method)\n    plt.show()\n\nif __name__ == '__main__':\n    main()"
      ], 
      "outputs": [], 
      "metadata": {
        "collapsed": false
      }
    }
  ], 
  "metadata": {
    "kernelspec": {
      "display_name": "Python 2", 
      "name": "python2", 
      "language": "python"
    }, 
    "language_info": {
      "mimetype": "text/x-python", 
      "nbconvert_exporter": "python", 
      "name": "python", 
      "file_extension": ".py", 
      "version": "2.7.11", 
      "pygments_lexer": "ipython2", 
      "codemirror_mode": {
        "version": 2, 
        "name": "ipython"
      }
    }
  }
}