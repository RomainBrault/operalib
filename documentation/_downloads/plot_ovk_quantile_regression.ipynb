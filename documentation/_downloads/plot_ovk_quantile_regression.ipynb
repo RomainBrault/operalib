{
  "nbformat_minor": 0, 
  "nbformat": 4, 
  "cells": [
    {
      "execution_count": null, 
      "cell_type": "code", 
      "source": [
        "%matplotlib inline"
      ], 
      "outputs": [], 
      "metadata": {
        "collapsed": false
      }
    }, 
    {
      "source": [
        "\n# Joint quantile regression with operator-valued kernels\n\n\nAn example to illustrate joint quantile regression with operator-valued\nkernels.\n\nWe compare quantile regression estimation with and without non-crossing\nconstraints.\n"
      ], 
      "cell_type": "markdown", 
      "metadata": {}
    }, 
    {
      "execution_count": null, 
      "cell_type": "code", 
      "source": [
        "# Author: Maxime Sangnier <maxime.sangnier@gmail.com>\n# License: MIT\n\n# -*- coding: utf-8 -*-\n\nfrom operalib import Quantile, generate_quantile_data\n\nimport numpy as np\nimport time\nimport matplotlib.pyplot as plt\n\nnp.random.seed(0)\n\nprint(\"Creating dataset...\")\nprobs = np.linspace(0.1, 0.9, 5)  # Quantile levels of interest\nx_train, y_train, z_train = generate_quantile_data(50)\nx_test, y_test, z_test = generate_quantile_data(1000, probs=probs)\n\nprint(\"Fitting...\")\n# Joint quantile regression\nlbda = 1e-2\ngamma = 1e1\njoint = Quantile(probs=probs, kernel='DGauss', lbda=lbda, gamma=gamma,\n                 gamma_quantile=1e-2)\n# Independent quantile regression\nind = Quantile(probs=probs, kernel='DGauss', lbda=lbda, gamma=gamma,\n               gamma_quantile=np.inf)\n# Independent quantile regression (with non-crossing constraints)\nnc = Quantile(probs=probs, kernel='DGauss', lbda=lbda, gamma=gamma,\n              gamma_quantile=np.inf, nc_const=True)\n\n# Fit on training data\nmethods = {'joint': joint,\n           'independant': ind,\n           'non-crossing': nc}\nfor name, reg in methods.items():\n    start = time.time()\n    reg.fit(x_train, y_train)\n#    pred = joint.predict(x_test)\n    print(name + ' leaning time: ', time.time() - start)\n    print(name + ' score ', reg.score(x_test, y_test))\n\n# Plot the estimated conditional quantiles\n\nplt.figure(figsize=(12, 7))\nfor (i, (reg, title)) in enumerate(\n    [(joint, 'Joint'),\n     (ind, 'Independent'),\n     (nc, 'Independent (non-crossing)')]):\n    plt.subplot(1, 3, i + 1)\n    plt.plot(x_train, y_train, '.')\n    for q in reg.predict(x_test):\n        plt.plot(x_test, q, '-')\n    for q in z_test:\n        plt.plot(x_test, q, '--')\n    plt.title(title)\nplt.show()"
      ], 
      "outputs": [], 
      "metadata": {
        "collapsed": false
      }
    }
  ], 
  "metadata": {
    "kernelspec": {
      "display_name": "Python 2", 
      "name": "python2", 
      "language": "python"
    }, 
    "language_info": {
      "mimetype": "text/x-python", 
      "nbconvert_exporter": "python", 
      "name": "python", 
      "file_extension": ".py", 
      "version": "2.7.6", 
      "pygments_lexer": "ipython2", 
      "codemirror_mode": {
        "version": 2, 
        "name": "ipython"
      }
    }
  }
}