{
  "nbformat_minor": 0, 
  "nbformat": 4, 
  "cells": [
    {
      "execution_count": null, 
      "cell_type": "code", 
      "source": [
        "%matplotlib inline"
      ], 
      "outputs": [], 
      "metadata": {
        "collapsed": false
      }
    }, 
    {
      "source": [
        "\n# Joint quantile regression with operator-valued kernels\n\n\nAn example to illustrate joint quantile regression with operator-valued\nkernels.\n\nWe compare quantile regression estimation with and without non-crossing\nconstraints.\n"
      ], 
      "cell_type": "markdown", 
      "metadata": {}
    }, 
    {
      "execution_count": null, 
      "cell_type": "code", 
      "source": [
        "# Author: Maxime Sangnier <maxime.sangnier@gmail.com>\n# License: MIT\n\n# -*- coding: utf-8 -*-\n\nfrom operalib import Quantile\n\nimport numpy as np\nimport time\nfrom scipy.stats import norm\nimport matplotlib.pyplot as plt\n\n\ndef toy_data(n=50, probs=[0.5], noise=1.):\n    \"\"\"Sine wave toy dataset.\n\n    Parameters\n    ----------\n    n : {integer}\n        Number of samples to generate.\n\n    probs : {list}, shape = [n_quantiles]\n        Probabilities (quantiles levels).\n\n    Returns\n    -------\n    X : {array}, shape = [n]\n        Input data.\n\n    y : {array}, shape = [n]\n        Targets.\n\n    quantiles : {array}, shape = [n x n_quantiles]\n        True conditional quantiles.\n    \"\"\"\n    t_min, t_max = 0., 1.5  # Bounds for the input data\n    t_down, t_up = 0., 1.5  # Bounds for the noise\n    t = np.random.rand(n) * (t_max - t_min) + t_min\n    t = np.sort(t)\n    pattern = -np.sin(2 * np.pi * t)  # Pattern of the signal\n    enveloppe = 1 + np.sin(2 * np.pi * t / 3)  # Enveloppe of the signal\n    pattern = pattern * enveloppe\n    # Noise decreasing std (from noise+0.2 to 0.2)\n    noise_std = 0.2 + noise * (t_up - t) / (t_up - t_down)\n    # Gaussian noise with decreasing std\n    add_noise = noise_std * np.random.randn(n)\n    observations = pattern + add_noise\n    quantiles = [pattern + norm.ppf(p, loc=np.zeros(n),\n                                    scale=np.fabs(noise_std)) for p in probs]\n    return t[:, None], observations, quantiles\n\n\nnp.random.seed(0)\n\nprint(\"Creating dataset...\")\nprobs = np.linspace(0.1, 0.9, 5)  # Quantile levels of interest\nx_train, y_train, z_train = toy_data(50)\nx_test, y_test, z_test = toy_data(1000, probs=probs)\n\nprint(\"Fitting...\")\n# Joint quantile regression\nlbda = 1e-2\ngamma = 1e1\njoint = Quantile(probs=probs, kernel='DGauss', lbda=lbda, gamma=gamma,\n                 gamma_quantile=1e-2)\n# Independent quantile regression\nind = Quantile(probs=probs, kernel='DGauss', lbda=lbda, gamma=gamma,\n               gamma_quantile=np.inf)\n# Independent quantile regression (with non-crossing constraints)\nnc = Quantile(probs=probs, kernel='DGauss', lbda=lbda, gamma=gamma,\n              gamma_quantile=np.inf, nc_const=True)\n\n# Fit on training data\nfor reg in [joint, ind, nc]:\n    start = time.time()\n    reg.fit(x_train, y_train)\n#    pred = joint.predict(x_test)\n    print(\"Leaning time: \", time.time() - start)\n    print('score ', reg.score(x_test, y_test))\n\n# Plot the estimated conditional quantiles\n\nplt.figure(figsize=(12, 7))\nfor (i, (reg, title)) in enumerate(\n    [(joint, 'Joint quantile regression'),\n     (ind, 'Independent quantile regression'),\n     (nc, 'Independent quantile regression (non-crossing)')]):\n    plt.subplot(1, 3, i + 1)\n    plt.plot(x_train, y_train, '.')\n    for q in reg.predict(x_test):\n        plt.plot(x_test, q, '-')\n    for q in z_test:\n        plt.plot(x_test, q, '--')\n    plt.title(title)\nplt.show()"
      ], 
      "outputs": [], 
      "metadata": {
        "collapsed": false
      }
    }
  ], 
  "metadata": {
    "kernelspec": {
      "display_name": "Python 2", 
      "name": "python2", 
      "language": "python"
    }, 
    "language_info": {
      "mimetype": "text/x-python", 
      "nbconvert_exporter": "python", 
      "name": "python", 
      "file_extension": ".py", 
      "version": "2.7.6", 
      "pygments_lexer": "ipython2", 
      "codemirror_mode": {
        "version": 2, 
        "name": "ipython"
      }
    }
  }
}