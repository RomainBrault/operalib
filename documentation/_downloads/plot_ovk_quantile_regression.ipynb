{
  "nbformat_minor": 0, 
  "nbformat": 4, 
  "cells": [
    {
      "execution_count": null, 
      "cell_type": "code", 
      "source": [
        "%matplotlib inline"
      ], 
      "outputs": [], 
      "metadata": {
        "collapsed": false
      }
    }, 
    {
      "source": [
        "\n# Joint quantile regression with operator-valued kernels\n\n\nAn example to illustrate joint quantile regression with operator-valued\nkernels.\n\nWe compare quantile regression estimation with and without non-crossing\nconstraints.\n\n"
      ], 
      "cell_type": "markdown", 
      "metadata": {}
    }, 
    {
      "execution_count": null, 
      "cell_type": "code", 
      "source": [
        "# Author: Maxime Sangnier <maxime.sangnier@gmail.com>\n# License: MIT\n\n# -*- coding: utf-8 -*-\nimport time\n\nimport numpy as np\nimport matplotlib.pyplot as plt\n\nfrom operalib import Quantile, toy_data_quantile\n\n\ndef main():\n    \"\"\"Example of multiple quantile regression.\"\"\"\n\n    print(\"Creating dataset...\")\n    probs = np.linspace(0.1, 0.9, 5)  # Quantile levels of interest\n    x_train, y_train, _ = toy_data_quantile(100, random_state=0)\n    x_test, y_test, z_test = toy_data_quantile(1000, probs=probs,\n                                               random_state=1)\n\n    print(\"Fitting...\")\n    methods = {'Default': Quantile(),\n               'Joint':\n               Quantile(probs=probs, kernel='DGauss', lbda=1e-2, gamma=8.,\n                        gamma_quantile=1e-2),\n               'Independent': Quantile(probs=probs, kernel='DGauss',\n                                       lbda=1e-2, gamma=8.,\n                                       gamma_quantile=np.inf),\n               'Non-crossing': Quantile(probs=probs, kernel='DGauss',\n                                        lbda=1e-2, gamma=8.,\n                                        gamma_quantile=np.inf, nc_const=True)}\n    # Fit on training data\n    for name, reg in sorted(methods.items()):\n        print(name)\n        start = time.time()\n        reg.fit(x_train, y_train)\n        print('%s leaning time: %.4f s' % (name, time.time() - start))\n        print('%s score %.5f' % (name, reg.score(x_test, y_test)))\n\n    # Plot the estimated conditional quantiles\n    plt.figure(figsize=(12, 7))\n    for i, method in enumerate(sorted(methods.keys())):\n        plt.subplot(1, 4, i + 1)\n        plt.plot(x_train, y_train, '.')\n        plt.gca().set_prop_cycle(None)\n        predictions = methods[method].predict(x_test)\n        if predictions.ndim < 2:\n            plt.plot(x_test, predictions, '-')\n        else:\n            for quantile in predictions:\n                plt.plot(x_test, quantile, '-')\n        plt.gca().set_prop_cycle(None)\n        for prob, quantile in zip(probs, z_test):\n            plt.plot(x_test, quantile, '--',\n                     label=\"theoretical {0:0.2f}\".format(prob))\n        plt.title(method)\n        plt.legend(fontsize=8)\n    plt.show()\n\n\nif __name__ == '__main__':\n    main()"
      ], 
      "outputs": [], 
      "metadata": {
        "collapsed": false
      }
    }
  ], 
  "metadata": {
    "kernelspec": {
      "display_name": "Python 2", 
      "name": "python2", 
      "language": "python"
    }, 
    "language_info": {
      "mimetype": "text/x-python", 
      "nbconvert_exporter": "python", 
      "name": "python", 
      "file_extension": ".py", 
      "version": "2.7.11", 
      "pygments_lexer": "ipython2", 
      "codemirror_mode": {
        "version": 2, 
        "name": "ipython"
      }
    }
  }
}