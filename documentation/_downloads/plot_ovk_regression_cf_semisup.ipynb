{
  "nbformat_minor": 0, 
  "nbformat": 4, 
  "cells": [
    {
      "execution_count": null, 
      "cell_type": "code", 
      "source": [
        "%matplotlib inline"
      ], 
      "outputs": [], 
      "metadata": {
        "collapsed": false
      }
    }, 
    {
      "source": [
        "\n# Vector-field Learning with structured output kernel\n\n\nAn example to illustrate structured learning with operator-valued kernels.\n\nWe compare Operator-valued kernel (OVK) with scikit-learn multi-output ridge\nregression on a semi-supervised dataset.\n\n"
      ], 
      "cell_type": "markdown", 
      "metadata": {}
    }, 
    {
      "execution_count": null, 
      "cell_type": "code", 
      "source": [
        "# Author: Romain Brault <ro.brault@gmail.com>\n# License: MIT\n\n# -*- coding: utf-8 -*-\n\nimport operalib as ovk\n\nimport numpy as np\nfrom numpy.random import RandomState\n\nimport matplotlib.pyplot as plt\n\nfrom sklearn.model_selection import train_test_split\nfrom sklearn.kernel_ridge import KernelRidge\n\n\ndef main():\n    \"\"\"Example of vector-field learning.\"\"\"\n\n    # Fix a seed\n    random_state = RandomState(0)\n\n    # Generate data\n    inputs, targets = ovk.toy_data_curl_free_field(n_samples=2000)\n    inputs_mesh = ovk.array2mesh(inputs)\n\n    (inputs_train, inputs_test,\n     targets_train, targets_test) = train_test_split(inputs, targets,\n                                                     train_size=(inputs\n                                                                 .shape[0] -\n                                                                 40 ** 2),\n                                                     random_state=random_state)\n\n    # Add unlabelled data\n    targets_train = ovk.datasets.awful(targets_train, .85, .1, .5,\n                                       random_state=random_state)\n    sup_mask = ~np.any(np.isnan(targets_train), axis=1)\n    weaksup_mask = ~np.all(np.isnan(targets_train), axis=1)\n\n    scores = {'CF weak semisup': 0, 'CF weak': 0, 'CF': 0, 'Indep': 0}\n    regressor = {'CF weak semisup':\n                 ovk.OVKRidge(ovkernel=ovk.RBFCurlFreeKernel(gamma=2.),\n                              lbda=0.0001, gamma_m=1., lbda_m=0.0001),\n                 'CF weak':\n                 ovk.OVKRidge(ovkernel=ovk.RBFCurlFreeKernel(gamma=2.),\n                              lbda=0.0001),\n                 'CF':\n                 ovk.OVKRidge(ovkernel=ovk.RBFCurlFreeKernel(gamma=2.),\n                              lbda=0.0001),\n                 'Indep':\n                 KernelRidge(kernel='rbf', alpha=0.0001, gamma=.5)}\n    targets_mesh = {'CF weak semisup': (None, None),\n                    'CF weak': (None, None),\n                    'CF': (None, None),\n                    'Indep': (None, None)}\n\n    # Learning with curl-free semisup + weak\n    regressor['CF weak semisup'].fit(inputs_train, targets_train)\n    scores['CF weak semisup'] = (regressor['CF weak semisup']\n                                 .score(inputs_test, targets_test))\n    print('R2 curl-free semisup + weak ridge: ', scores['CF weak semisup'])\n    targets_mesh['CF weak semisup'] = ovk.array2mesh(\n        regressor['CF weak semisup'].predict(inputs))\n\n    # Learning with curl-free weak\n    regressor['CF weak'].fit(inputs_train[weaksup_mask, :],\n                             targets_train[weaksup_mask, :])\n    scores['CF weak'] = regressor['CF weak'].score(inputs_test, targets_test)\n    print('R2 curl-free weak ridge: ', scores['CF weak'])\n    targets_mesh['CF weak'] = ovk.array2mesh(\n        regressor['CF weak'].predict(inputs))\n\n    # Learning with curl-free\n    regressor['CF'].fit(inputs_train[sup_mask, :], targets_train[sup_mask, :])\n    scores['CF'] = regressor['CF'].score(inputs_test, targets_test)\n    print('R2 curl-free ridge: ', scores['CF'])\n    targets_mesh['CF'] = ovk.array2mesh(regressor['CF'].predict(inputs))\n\n    # Learning with sklearn ridge\n    regressor['Indep'].fit(inputs_train[sup_mask, :],\n                           targets_train[sup_mask, :])\n    scores['Indep'] = regressor['Indep'].score(inputs_test, targets_test)\n    print('R2 independant ridge: ', scores['Indep'])\n    targets_mesh['Indep'] = ovk.array2mesh(regressor['Indep'].predict(inputs))\n\n    # Plotting\n    # pylint: disable=E1101\n    fig, axarr = plt.subplots(2, 2, sharex=True, sharey=True, figsize=(14, 14))\n    axarr[0, 0].streamplot(inputs_mesh[0], inputs_mesh[1],\n                           targets_mesh['CF weak semisup'][0],\n                           targets_mesh['CF weak semisup'][1],\n                           color=np.sqrt(\n                               targets_mesh['CF weak semisup'][0]**2 +\n                               targets_mesh['CF weak semisup'][1]**2),\n                           linewidth=.5, cmap=plt.cm.jet, density=2,\n                           arrowstyle=u'->')\n    axarr[0, 1].streamplot(inputs_mesh[0], inputs_mesh[1],\n                           targets_mesh['CF weak'][0],\n                           targets_mesh['CF weak'][1],\n                           color=np.sqrt(targets_mesh['CF weak'][0]**2 +\n                                         targets_mesh['CF weak'][1]**2),\n                           linewidth=.5, cmap=plt.cm.jet, density=2,\n                           arrowstyle=u'->')\n    axarr[1, 0].streamplot(inputs_mesh[0], inputs_mesh[1],\n                           targets_mesh['CF'][0], targets_mesh['CF'][1],\n                           color=np.sqrt(targets_mesh['CF'][0]**2 +\n                                         targets_mesh['CF'][1]**2),\n                           linewidth=.5, cmap=plt.cm.jet, density=2,\n                           arrowstyle=u'->')\n    axarr[1, 1].streamplot(inputs_mesh[0], inputs_mesh[1],\n                           targets_mesh['Indep'][0], targets_mesh['Indep'][1],\n                           color=np.sqrt(targets_mesh['Indep'][0]**2 +\n                                         targets_mesh['Indep'][1]**2),\n                           linewidth=.5, cmap=plt.cm.jet, density=2,\n                           arrowstyle=u'->')\n    axarr[0, 0].set_ylim([-1, 1])\n    axarr[0, 0].set_xlim([-1, 1])\n    axarr[0, 0].set_title('Curl-free semisup + weak ridge: ' +\n                          str(scores['CF weak semisup']))\n    axarr[0, 1].set_ylim([-1, 1])\n    axarr[0, 1].set_xlim([-1, 1])\n    axarr[0, 1].set_title('Curl-free weak ridge, R2: ' +\n                          str(scores['CF weak']))\n    axarr[1, 0].set_ylim([-1, 1])\n    axarr[1, 0].set_xlim([-1, 1])\n    axarr[1, 0].set_title('Curl-free ridge, R2: ' +\n                          str(scores['CF']))\n    axarr[1, 1].set_ylim([-1, 1])\n    axarr[1, 1].set_xlim([-1, 1])\n    axarr[1, 1].set_title('Independant ridge, R2: ' +\n                          str(scores['Indep']))\n    fig.suptitle('Vectorfield learning')\n    plt.show()\n\nif __name__ == '__main__':\n    main()"
      ], 
      "outputs": [], 
      "metadata": {
        "collapsed": false
      }
    }
  ], 
  "metadata": {
    "kernelspec": {
      "display_name": "Python 2", 
      "name": "python2", 
      "language": "python"
    }, 
    "language_info": {
      "mimetype": "text/x-python", 
      "nbconvert_exporter": "python", 
      "name": "python", 
      "file_extension": ".py", 
      "version": "2.7.11", 
      "pygments_lexer": "ipython2", 
      "codemirror_mode": {
        "version": 2, 
        "name": "ipython"
      }
    }
  }
}