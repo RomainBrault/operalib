{
  "nbformat_minor": 0, 
  "nbformat": 4, 
  "cells": [
    {
      "execution_count": null, 
      "cell_type": "code", 
      "source": [
        "%matplotlib inline"
      ], 
      "outputs": [], 
      "metadata": {
        "collapsed": false
      }
    }, 
    {
      "source": [
        "\n# Vector-field Learning with structured output kernel\n\n\nAn example to illustrate structured learning with operator-valued kernels.\n\nWe compare Operator-valued kernel (OVK) with scikit-learn multi-output ridge\nregression on a semi-supervised dataset.\n\n"
      ], 
      "cell_type": "markdown", 
      "metadata": {}
    }, 
    {
      "execution_count": null, 
      "cell_type": "code", 
      "source": [
        "import operalib as ovk\nimport numpy as np\nimport matplotlib.pyplot as plt\nfrom sklearn.cross_validation import train_test_split\nfrom sklearn.kernel_ridge import KernelRidge\n\n# Generate data\nnp.random.seed(0)\nX, y = ovk.toy_data_curl_free_field(n=2000)\nXc = X.copy()\n# Add some noise\nyc = y.copy() + .075 * np.random.randn(y.shape[0], y.shape[1])\nK = ovk.RBFCurlFreeKernel(1.)\nXtr, Xte, ytr, yte = train_test_split(Xc, yc, train_size=500)\n\n# Add unlabelled data\nytr = ovk.datasets.awful(ytr, .85, .1, .5)\nsup_mask = ~np.any(np.isnan(ytr), axis=1)\nweaksup_mask = ~np.all(np.isnan(ytr), axis=1)\n\n# Learning with curl-free semisup + weak\nregr_1 = ovk.OVKRidge(ovkernel=ovk.RBFCurlFreeKernel(gamma=2.), lbda=0.0001,\n                      gamma_m=1., lbda_m=0.0001)\nregr_1.fit(Xtr, ytr)\ns1 = regr_1.score(Xte, yte)\nprint('R2 curl-free semisup + weak ridge: ', s1)\nyp1 = regr_1.predict(Xc)\nX1, Y1 = ovk.array2mesh(Xc)\nU1, V1 = ovk.array2mesh(yp1)\n\n# Learning with curl-free weak\nregr_2 = ovk.OVKRidge(ovkernel=ovk.RBFCurlFreeKernel(gamma=2.), lbda=0.0001)\nregr_2.fit(Xtr[weaksup_mask, :], ytr[weaksup_mask, :])\ns2 = regr_2.score(Xte, yte)\nprint('R2 curl-free weak ridge: ', s2)\nyp2 = regr_2.predict(Xc)\nX2, Y2 = ovk.array2mesh(Xc)\nU2, V2 = ovk.array2mesh(yp2)\n\n# Learning with curl-free\nregr_3 = ovk.OVKRidge(ovkernel=ovk.RBFCurlFreeKernel(gamma=2.), lbda=0.0001)\nregr_3.fit(Xtr[sup_mask, :], ytr[sup_mask, :])\ns3 = regr_3.score(Xte, yte)\nprint('R2 curl-free ridge: ', s3)\nyp3 = regr_3.predict(Xc)\nX3, Y3 = ovk.array2mesh(Xc)\nU3, V3 = ovk.array2mesh(yp3)\n\n# Learning with sklearn ridge\nregr_4 = KernelRidge(kernel='rbf', alpha=0.0001, gamma=.5)\nregr_4.fit(Xtr[sup_mask, :], ytr[sup_mask, :])\ns4 = regr_4.score(Xte, yte)\nprint('R2 independant ridge: ', s4)\nyp4 = regr_4.predict(X)\nX4, Y4 = ovk.array2mesh(X)\nU4, V4 = ovk.array2mesh(yp4)\n\n# Plotting\nf, axarr = plt.subplots(2, 2, sharex=True, sharey=True, figsize=(14, 7))\naxarr[0, 0].streamplot(X1, Y1, U1, V1, color=np.sqrt(U1**2 + V1**2),\n                       linewidth=.5, cmap=plt.cm.jet, density=2,\n                       arrowstyle=u'->')\naxarr[0, 1].streamplot(X2, Y2, U2, V2, color=np.sqrt(U2**2 + V2**2),\n                       linewidth=.5, cmap=plt.cm.jet, density=2,\n                       arrowstyle=u'->')\naxarr[1, 0].streamplot(X3, Y3, U3, V3, color=np.sqrt(U2**2 + V2**2),\n                       linewidth=.5, cmap=plt.cm.jet, density=2,\n                       arrowstyle=u'->')\naxarr[1, 1].streamplot(X4, Y4, U4, V4, color=np.sqrt(U2**2 + V2**2),\n                       linewidth=.5, cmap=plt.cm.jet, density=2,\n                       arrowstyle=u'->')\naxarr[0, 0].set_ylim([-1, 1])\naxarr[0, 0].set_xlim([-1, 1])\naxarr[0, 0].set_title('Curl-free semisup + weak ridge: ' + str(s1))\naxarr[0, 1].set_ylim([-1, 1])\naxarr[0, 1].set_xlim([-1, 1])\naxarr[0, 1].set_title('Curl-free weak ridge, R2: ' + str(s2))\naxarr[1, 0].set_ylim([-1, 1])\naxarr[1, 0].set_xlim([-1, 1])\naxarr[1, 0].set_title('Curl-free ridge, R2: ' + str(s3))\naxarr[1, 1].set_ylim([-1, 1])\naxarr[1, 1].set_xlim([-1, 1])\naxarr[1, 1].set_title('Independant ridge, R2: ' + str(s4))\nf.suptitle('Vectorfield learning')\nplt.show()"
      ], 
      "outputs": [], 
      "metadata": {
        "collapsed": false
      }
    }
  ], 
  "metadata": {
    "kernelspec": {
      "display_name": "Python 2", 
      "name": "python2", 
      "language": "python"
    }, 
    "language_info": {
      "mimetype": "text/x-python", 
      "nbconvert_exporter": "python", 
      "name": "python", 
      "file_extension": ".py", 
      "version": "2.7.11", 
      "pygments_lexer": "ipython2", 
      "codemirror_mode": {
        "version": 2, 
        "name": "ipython"
      }
    }
  }
}