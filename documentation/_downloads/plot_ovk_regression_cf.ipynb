{
  "nbformat_minor": 0, 
  "nbformat": 4, 
  "cells": [
    {
      "execution_count": null, 
      "cell_type": "code", 
      "source": [
        "%matplotlib inline"
      ], 
      "outputs": [], 
      "metadata": {
        "collapsed": false
      }
    }, 
    {
      "source": [
        "\n# Vector-field Learning with structured output kernel\n\n\nAn example to illustrate structured learning with operator-valued kernels.\n\nWe compare Operator-valued kernel (OVK) with scikit-learn multi-output ridge\nregression.\n\n"
      ], 
      "cell_type": "markdown", 
      "metadata": {}
    }, 
    {
      "execution_count": null, 
      "cell_type": "code", 
      "source": [
        "import operalib as ovk\nimport numpy as np\nimport matplotlib.pyplot as plt\nfrom sklearn.model_selection import train_test_split\nfrom sklearn.kernel_ridge import KernelRidge\n\n# Generate data\nnp.random.seed(0)\nX, y = ovk.toy_data_curl_free_field(n=2000)\nXc = X.copy()\nyc = y.copy() + .05 * np.random.randn(y.shape[0], y.shape[1])  # Add some noise\nK = ovk.RBFCurlFreeKernel(1.)\nXtr, Xte, ytr, yte = train_test_split(Xc, yc, train_size=500)\n\nregr_1 = ovk.OVKRidge(ovkernel=ovk.RBFCurlFreeKernel(gamma=2.), lbda=0.0001)\n\nnan_mask = np.random.binomial(1, 0., ytr.shape[0]).astype(np.bool)\nytr[nan_mask, :] = np.NaN\n\n# Learning with curl-free\nregr_1.fit(Xtr, ytr)\ns1 = regr_1.score(Xte, yte)\nprint('R2 curl-free ridge: ', s1)\nyp1 = regr_1.predict(Xc)\nX1, Y1 = ovk.array2mesh(Xc)\nU1, V1 = ovk.array2mesh(yp1)\n\n# Learning with sklearn ridge\nregr_2 = KernelRidge(kernel='rbf', alpha=0.0001, gamma=1.5)\nregr_2.fit(Xtr[~nan_mask, :], ytr[~nan_mask, :])\ns2 = regr_2.score(Xte, yte)\nprint('R2 independant ridge: ', s2)\nyp2 = regr_2.predict(X)\nX2, Y2 = ovk.array2mesh(X)\nU2, V2 = ovk.array2mesh(yp2)\n\n# Plotting\nf, axarr = plt.subplots(1, 2, sharex=True, sharey=True, figsize=(14, 7))\naxarr[0].streamplot(X1, Y1, U1, V1, color=np.sqrt(U1**2 + V1**2),\n                    linewidth=.5, cmap=plt.cm.jet, density=2, arrowstyle=u'->')\naxarr[1].streamplot(X2, Y2, U2, V2, color=np.sqrt(U2**2 + V2**2),\n                    linewidth=.5, cmap=plt.cm.jet, density=2, arrowstyle=u'->')\naxarr[0].set_ylim([-1, 1])\naxarr[0].set_xlim([-1, 1])\naxarr[0].set_title('Curl-Free Ridge, R2: ' + str(s1))\naxarr[1].set_ylim([-1, 1])\naxarr[1].set_xlim([-1, 1])\naxarr[1].set_title('Independant Ridge, R2: ' + str(s2))\n\nf.suptitle('Vectorfield learning')\nplt.show()"
      ], 
      "outputs": [], 
      "metadata": {
        "collapsed": false
      }
    }
  ], 
  "metadata": {
    "kernelspec": {
      "display_name": "Python 2", 
      "name": "python2", 
      "language": "python"
    }, 
    "language_info": {
      "mimetype": "text/x-python", 
      "nbconvert_exporter": "python", 
      "name": "python", 
      "file_extension": ".py", 
      "version": "2.7.11", 
      "pygments_lexer": "ipython2", 
      "codemirror_mode": {
        "version": 2, 
        "name": "ipython"
      }
    }
  }
}