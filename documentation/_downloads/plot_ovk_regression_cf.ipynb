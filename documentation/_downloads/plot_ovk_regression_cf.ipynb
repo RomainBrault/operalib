{
  "nbformat_minor": 0, 
  "nbformat": 4, 
  "cells": [
    {
      "execution_count": null, 
      "cell_type": "code", 
      "source": [
        "%matplotlib inline"
      ], 
      "outputs": [], 
      "metadata": {
        "collapsed": false
      }
    }, 
    {
      "source": [
        "\n# Vector-field Learning with structured output kernel\n\n\nAn example to illustrate structured learning with operator-valued kernels.\n\nWe compare Operator-valued kernel (OVK) with scikit-learn multi-output ridge\nregression.\n\n"
      ], 
      "cell_type": "markdown", 
      "metadata": {}
    }, 
    {
      "execution_count": null, 
      "cell_type": "code", 
      "source": [
        "# Author: Romain Brault <ro.brault@gmail.com>\n# License: MIT\n\n# -*- coding: utf-8 -*-\nimport operalib as ovk\n\nimport matplotlib.pyplot as plt\n\nimport numpy as np\nfrom numpy.random import RandomState\n\nfrom sklearn.model_selection import train_test_split\nfrom sklearn.kernel_ridge import KernelRidge\n\n\ndef main():\n    \"\"\"Example of vector-field learning.\"\"\"\n\n    # Fix a seed\n    random_state = RandomState(0)\n\n    # Generate data\n    inputs, targets = ovk.toy_data_curl_free_field(n_samples=2000)\n    inputs_mesh = ovk.array2mesh(inputs)\n\n    inputs_train, inputs_test, targets_train, targets_test = train_test_split(\n        inputs, targets, train_size=(inputs.shape[0] - 40 ** 2),\n        random_state=random_state)\n    # Add some noise\n    targets_train = (targets_train +\n                     .175 * random_state.randn(targets_train.shape[0],\n                                               targets_train.shape[1]))\n\n    regressor = {'CF':\n                 ovk.OVKRidge(ovkernel=ovk.RBFCurlFreeKernel(gamma=2.),\n                              lbda=1e-4),\n                 'Indep':\n                 KernelRidge(kernel='rbf', gamma=.5, alpha=1e-4)}\n\n    # Learning with curl-free\n    regressor['CF'].fit(inputs_train, targets_train)\n    score_cf = regressor['CF'].score(inputs_test, targets_test)\n    print('R2 curl-free ridge: %.5f' % score_cf)\n    targets_mesh_cf = ovk.array2mesh(regressor['CF'].predict(inputs))\n\n    # Learning with sklearn ridge\n    regressor['Indep'].fit(inputs_train, targets_train)\n    scode_id = regressor['Indep'].score(inputs_test, targets_test)\n    print('R2 independent ridge: %.5f' % scode_id)\n    targets_mesh_id = ovk.array2mesh(regressor['Indep'].predict(inputs))\n\n    # Plotting\n    # pylint: disable=E1101\n    fig, axarr = plt.subplots(1, 2, sharex=True, sharey=True, figsize=(14, 7))\n    axarr[0].streamplot(inputs_mesh[0], inputs_mesh[1],\n                        targets_mesh_cf[0], targets_mesh_cf[1],\n                        color=np.sqrt(targets_mesh_cf[0]**2 +\n                                      targets_mesh_cf[1]**2),\n                        linewidth=.5, cmap=plt.cm.jet, density=2,\n                        arrowstyle=u'->')\n    axarr[1].streamplot(inputs_mesh[0], inputs_mesh[1],\n                        targets_mesh_id[0], targets_mesh_id[1],\n                        color=np.sqrt(targets_mesh_id[0]**2 +\n                                      targets_mesh_id[1]**2),\n                        linewidth=.5, cmap=plt.cm.jet, density=2,\n                        arrowstyle=u'->')\n    axarr[0].set_ylim([-1, 1])\n    axarr[0].set_xlim([-1, 1])\n    axarr[0].set_title('Curl-Free Ridge, R2: %.5f' % score_cf)\n    axarr[1].set_ylim([-1, 1])\n    axarr[1].set_xlim([-1, 1])\n    axarr[1].set_title('Independent Ridge, R2: %.5f' % scode_id)\n\n    fig.suptitle('Vectorfield learning')\n    plt.show()\n\n\nif __name__ == '__main__':\n    main()"
      ], 
      "outputs": [], 
      "metadata": {
        "collapsed": false
      }
    }
  ], 
  "metadata": {
    "kernelspec": {
      "display_name": "Python 2", 
      "name": "python2", 
      "language": "python"
    }, 
    "language_info": {
      "mimetype": "text/x-python", 
      "nbconvert_exporter": "python", 
      "name": "python", 
      "file_extension": ".py", 
      "version": "2.7.11", 
      "pygments_lexer": "ipython2", 
      "codemirror_mode": {
        "version": 2, 
        "name": "ipython"
      }
    }
  }
}