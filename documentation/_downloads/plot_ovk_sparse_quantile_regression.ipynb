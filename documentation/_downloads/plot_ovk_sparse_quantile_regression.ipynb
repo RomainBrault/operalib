{
  "nbformat_minor": 0, 
  "nbformat": 4, 
  "cells": [
    {
      "execution_count": null, 
      "cell_type": "code", 
      "source": [
        "%matplotlib inline"
      ], 
      "outputs": [], 
      "metadata": {
        "collapsed": false
      }
    }, 
    {
      "source": [
        "\n# Data sparse quantile regression with operator-valued kernels\n\n\nAn example to illustrate data sparse quantile regression with operator-valued\nkernels.\n\nWe compare quantile regression with several levels of data sparsity.\n\n"
      ], 
      "cell_type": "markdown", 
      "metadata": {}
    }, 
    {
      "execution_count": null, 
      "cell_type": "code", 
      "source": [
        "# Author: Maxime Sangnier <maxime.sangnier@gmail.com>\n# License: MIT\n\n# -*- coding: utf-8 -*-\nimport time\n\nimport numpy as np\nimport matplotlib.pyplot as plt\n\nfrom operalib import Quantile, toy_data_quantile\n\n\ndef main():\n    \"\"\"Example of multiple quantile regression.\"\"\"\n\n    print(\"Creating dataset...\")\n    probs = np.linspace(0.1, 0.9, 5)  # Quantile levels of interest\n    x_train, y_train, _ = toy_data_quantile(100, random_state=0)\n    x_test, y_test, z_test = toy_data_quantile(1000, probs=probs,\n                                               random_state=1)\n\n    print(\"Fitting...\")\n    methods = {'Non-sparse QR':\n               Quantile(probs=probs, kernel='DGauss', lbda=1e-2, gamma=8.,\n                        gamma_quantile=1e-2),\n               'Sparse QR':\n               Quantile(probs=probs, kernel='DGauss', lbda=1e-2, gamma=8.,\n                        gamma_quantile=1e-2, eps=2.5)}\n    # Fit on training data\n    for name, reg in sorted(methods.items()):\n        print(name)\n        start = time.time()\n        reg.fit(x_train, y_train)\n\n        coefs = reg.model_[\"coefs\"].reshape(y_train.size, probs.size)\n        n_sv = np.sum(np.linalg.norm(coefs, axis=1) *\n                      reg.lbda / y_train.size > 1e-5)\n        print('%s learning time: %.3f s' % (name, time.time() - start))\n        print('%s score %.5f' % (name, reg.score(x_test, y_test)))\n        print('%s num of support vectors %d' % (name, n_sv))\n\n    # Plot the estimated conditional quantiles\n    plt.figure(figsize=(12, 7))\n    for i, method in enumerate(sorted(methods.keys())):\n        plt.subplot(2, 2, i + 1)\n        plt.plot(x_train, y_train, '.')\n        plt.gca().set_prop_cycle(None)\n        for quantile in methods[method].predict(x_test):\n            plt.plot(x_test, quantile, '-')\n        plt.gca().set_prop_cycle(None)\n        for prob, quantile in zip(probs, z_test):\n            plt.plot(x_test, quantile, '--', label=\"theoretical {0:0.2f}\".format(prob))\n        plt.title(method)\n        plt.legend(fontsize=8)\n\n        coefs = methods[method].model_[\"coefs\"].reshape(y_train.size,\n                                                        probs.size)\n        plt.subplot(2, 2, 2 + i + 1)\n        plt.plot(np.linalg.norm(coefs, axis=1))\n        plt.title(\"Norm of dual coefs for each point\")\n    plt.show()\n\n\nif __name__ == '__main__':\n    main()"
      ], 
      "outputs": [], 
      "metadata": {
        "collapsed": false
      }
    }
  ], 
  "metadata": {
    "kernelspec": {
      "display_name": "Python 2", 
      "name": "python2", 
      "language": "python"
    }, 
    "language_info": {
      "mimetype": "text/x-python", 
      "nbconvert_exporter": "python", 
      "name": "python", 
      "file_extension": ".py", 
      "version": "2.7.11", 
      "pygments_lexer": "ipython2", 
      "codemirror_mode": {
        "version": 2, 
        "name": "ipython"
      }
    }
  }
}